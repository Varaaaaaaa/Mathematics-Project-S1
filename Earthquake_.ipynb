{
  "nbformat": 4,
  "nbformat_minor": 0,
  "metadata": {
    "colab": {
      "name": "Earthquake .ipynb",
      "provenance": [],
      "collapsed_sections": [],
      "authorship_tag": "ABX9TyMmFvC17fYwDQe9PW5ev+lP",
      "include_colab_link": true
    },
    "kernelspec": {
      "name": "python3",
      "display_name": "Python 3"
    },
    "language_info": {
      "name": "python"
    }
  },
  "cells": [
    {
      "cell_type": "markdown",
      "metadata": {
        "id": "view-in-github",
        "colab_type": "text"
      },
      "source": [
        "<a href=\"https://colab.research.google.com/github/Varaaaaaaa/Mathematics-Project-S1/blob/main/Earthquake_.ipynb\" target=\"_parent\"><img src=\"https://colab.research.google.com/assets/colab-badge.svg\" alt=\"Open In Colab\"/></a>"
      ]
    },
    {
      "cell_type": "code",
      "source": [
        "from google.colab import drive\n",
        "drive.mount(\"/content/gdrive\")"
      ],
      "metadata": {
        "colab": {
          "base_uri": "https://localhost:8080/"
        },
        "id": "9keFF0eV1xPr",
        "outputId": "0c3241a7-117c-4b28-fdfa-7fcfdba4fe01"
      },
      "execution_count": 2,
      "outputs": [
        {
          "output_type": "stream",
          "name": "stdout",
          "text": [
            "Mounted at /content/gdrive\n"
          ]
        }
      ]
    },
    {
      "cell_type": "code",
      "source": [
        "import pandas as pd\n",
        "data=pd.read_csv(\"/content/gdrive/My Drive/earthquake.csv\",sep=\",\")\n",
        "print(data)"
      ],
      "metadata": {
        "colab": {
          "base_uri": "https://localhost:8080/"
        },
        "id": "vssgmPkY1zSG",
        "outputId": "7f659bc8-1c6d-4441-b4bd-04a18755d966"
      },
      "execution_count": 5,
      "outputs": [
        {
          "output_type": "stream",
          "name": "stdout",
          "text": [
            "                 id        date         time    lat   long country      city  \\\n",
            "0      2.000000e+13  2003.05.20  12:17:44 AM  39.04  40.38  turkey    bingol   \n",
            "1      2.010000e+13  2007.08.01  12:03:08 AM  40.79  30.09  turkey   kocaeli   \n",
            "2      1.980000e+13  1978.05.07  12:41:37 AM  38.58  27.61  turkey    manisa   \n",
            "3      2.000000e+13  1997.03.22  12:31:45 AM  39.47  36.44  turkey     sivas   \n",
            "4      2.000000e+13  2000.04.02  12:57:38 AM  40.80  30.24  turkey   sakarya   \n",
            "...             ...         ...          ...    ...    ...     ...       ...   \n",
            "24002  2.020000e+13  2017.03.10  12:23:42 AM  37.50  38.48  turkey  adiyaman   \n",
            "24003  2.020000e+13  2017.03.10  12:42:44 AM  40.47  35.84  turkey    amasya   \n",
            "24004  2.020000e+13  2017.04.05  12:08:11 AM  38.63  27.57  turkey    manisa   \n",
            "24005  2.020000e+13  2017.04.05  12:35:09 AM  38.65  27.55  turkey    manisa   \n",
            "24006  2.020000e+13  2017.04.05  12:25:25 AM  38.63  27.58  turkey    manisa   \n",
            "\n",
            "                      area   direction  dist  depth   xm   md  richter   mw  \\\n",
            "0               baliklicay        west   0.1   10.0  4.1  4.1      0.0  NaN   \n",
            "1          bayraktar_izmit        west   0.1    5.2  4.0  3.8      4.0  NaN   \n",
            "2               hamzabeyli  south_west   0.1    0.0  3.7  0.0      0.0  NaN   \n",
            "3      kahvepinar_sarkisla  south_west   0.1   10.0  3.5  3.5      0.0  NaN   \n",
            "4          meseli_serdivan  south_west   0.1    7.0  4.3  4.3      0.0  NaN   \n",
            "...                    ...         ...   ...    ...  ...  ...      ...  ...   \n",
            "24002      kirmacik_samsat         NaN   NaN   13.0  4.2  0.0      4.2  4.0   \n",
            "24003              kizoglu         NaN   NaN    5.6  3.6  0.0      3.5  3.6   \n",
            "24004            cavusoglu         NaN   NaN   10.6  4.1  0.0      4.0  4.1   \n",
            "24005            cavusoglu         NaN   NaN    8.7  3.8  0.0      3.6  3.8   \n",
            "24006            cavusoglu         NaN   NaN    9.0  3.5  0.0      3.4  3.5   \n",
            "\n",
            "        ms   mb  \n",
            "0      0.0  0.0  \n",
            "1      0.0  0.0  \n",
            "2      0.0  3.7  \n",
            "3      0.0  0.0  \n",
            "4      0.0  0.0  \n",
            "...    ...  ...  \n",
            "24002  0.0  0.0  \n",
            "24003  0.0  0.0  \n",
            "24004  0.0  0.0  \n",
            "24005  0.0  0.0  \n",
            "24006  0.0  0.0  \n",
            "\n",
            "[24007 rows x 17 columns]\n"
          ]
        }
      ]
    },
    {
      "cell_type": "code",
      "source": [
        "data=data.info()\n",
        "print(data)\n"
      ],
      "metadata": {
        "colab": {
          "base_uri": "https://localhost:8080/"
        },
        "id": "78oAmrnZ2SUa",
        "outputId": "22b4e2ee-5677-439a-d328-582325ad0eb1"
      },
      "execution_count": 6,
      "outputs": [
        {
          "output_type": "stream",
          "name": "stdout",
          "text": [
            "<class 'pandas.core.frame.DataFrame'>\n",
            "RangeIndex: 24007 entries, 0 to 24006\n",
            "Data columns (total 17 columns):\n",
            " #   Column     Non-Null Count  Dtype  \n",
            "---  ------     --------------  -----  \n",
            " 0   id         24007 non-null  float64\n",
            " 1   date       24007 non-null  object \n",
            " 2   time       24007 non-null  object \n",
            " 3   lat        24007 non-null  float64\n",
            " 4   long       24007 non-null  float64\n",
            " 5   country    24007 non-null  object \n",
            " 6   city       11754 non-null  object \n",
            " 7   area       12977 non-null  object \n",
            " 8   direction  10062 non-null  object \n",
            " 9   dist       10062 non-null  float64\n",
            " 10  depth      24007 non-null  float64\n",
            " 11  xm         24007 non-null  float64\n",
            " 12  md         24007 non-null  float64\n",
            " 13  richter    24007 non-null  float64\n",
            " 14  mw         5003 non-null   float64\n",
            " 15  ms         24007 non-null  float64\n",
            " 16  mb         24007 non-null  float64\n",
            "dtypes: float64(11), object(6)\n",
            "memory usage: 3.1+ MB\n",
            "None\n"
          ]
        }
      ]
    },
    {
      "cell_type": "code",
      "source": [
        "import pandas as pd\n",
        "data=pd.read_csv(\"/content/gdrive/My Drive/earthquake.csv\",sep=\",\")\n",
        "data=data[['id','lat','long','dist','depth','xm','md','richter','ms','mb']]\n",
        "data=data.head(10)\n",
        "print(data)\n"
      ],
      "metadata": {
        "colab": {
          "base_uri": "https://localhost:8080/"
        },
        "id": "tAJ76z9d2cgc",
        "outputId": "6ae4ad7b-6f1c-481c-8362-7192a3867970"
      },
      "execution_count": 8,
      "outputs": [
        {
          "output_type": "stream",
          "name": "stdout",
          "text": [
            "             id    lat   long  dist  depth   xm   md  richter   ms   mb\n",
            "0  2.000000e+13  39.04  40.38   0.1   10.0  4.1  4.1      0.0  0.0  0.0\n",
            "1  2.010000e+13  40.79  30.09   0.1    5.2  4.0  3.8      4.0  0.0  0.0\n",
            "2  1.980000e+13  38.58  27.61   0.1    0.0  3.7  0.0      0.0  0.0  3.7\n",
            "3  2.000000e+13  39.47  36.44   0.1   10.0  3.5  3.5      0.0  0.0  0.0\n",
            "4  2.000000e+13  40.80  30.24   0.1    7.0  4.3  4.3      0.0  0.0  0.0\n",
            "5  2.010000e+13  37.11  27.75   0.1   32.8  3.5  3.5      0.0  0.0  0.0\n",
            "6  2.010000e+13  38.75  43.61   0.1    9.4  4.5  0.0      4.5  0.0  0.0\n",
            "7  1.990000e+13  39.43  27.98   0.1   26.0  3.8  3.8      0.0  0.0  0.0\n",
            "8  2.000000e+13  40.05  34.07   0.1    1.0  3.8  3.8      0.0  0.0  0.0\n",
            "9  2.010000e+13  38.76  43.54   0.1    3.1  4.3  0.0      4.2  0.0  4.3\n"
          ]
        }
      ]
    },
    {
      "cell_type": "code",
      "source": [
        "import numpy as np # linear algebra\n",
        "import pandas as pd # data processing, CSV file I/O (e.g. pd.read_csv)\n",
        "import seaborn as sn\n",
        "import os\n",
        "print(os.listdir(\"/content/gdrive/My Drive/input\"))\n"
      ],
      "metadata": {
        "colab": {
          "base_uri": "https://localhost:8080/"
        },
        "id": "yGtUASJ_5ZBq",
        "outputId": "fca14539-536d-4084-957c-d61cf161bfe6"
      },
      "execution_count": 10,
      "outputs": [
        {
          "output_type": "stream",
          "name": "stdout",
          "text": [
            "['earthquake.csv', 'Catalogue.csv']\n"
          ]
        }
      ]
    },
    {
      "cell_type": "code",
      "source": [
        "from subprocess import check_output\n",
        "print(check_output([\"ls\", \"/content/gdrive/My Drive/input\"]).decode(\"utf8\"))"
      ],
      "metadata": {
        "colab": {
          "base_uri": "https://localhost:8080/"
        },
        "id": "ez09e3hd6xXZ",
        "outputId": "054ad5f8-ddd1-4389-d53f-e0c0f80a1b31"
      },
      "execution_count": 11,
      "outputs": [
        {
          "output_type": "stream",
          "name": "stdout",
          "text": [
            "Catalogue.csv\n",
            "earthquake.csv\n",
            "\n"
          ]
        }
      ]
    },
    {
      "cell_type": "code",
      "source": [
        "veri=pd.read_csv(('/content/gdrive/My Drive/input/earthquake.csv'), encoding='utf-8', engine='python',sep=',',error_bad_lines=False)\n",
        "veri.describe()"
      ],
      "metadata": {
        "colab": {
          "base_uri": "https://localhost:8080/",
          "height": 370
        },
        "id": "-HFsQ2T97AeE",
        "outputId": "b75c71b7-7f10-4d20-c140-c5a6d88e0358"
      },
      "execution_count": 13,
      "outputs": [
        {
          "output_type": "stream",
          "name": "stderr",
          "text": [
            "/usr/local/lib/python3.7/dist-packages/IPython/core/interactiveshell.py:2882: FutureWarning: The error_bad_lines argument has been deprecated and will be removed in a future version.\n",
            "\n",
            "\n",
            "  exec(code_obj, self.user_global_ns, self.user_ns)\n"
          ]
        },
        {
          "output_type": "execute_result",
          "data": {
            "text/plain": [
              "                 id           lat          long          dist         depth  \\\n",
              "count  2.400700e+04  24007.000000  24007.000000  10062.000000  24007.000000   \n",
              "mean   1.991982e+13     37.929474     30.773229      3.175015     18.491773   \n",
              "std    2.060396e+11      2.205605      6.584596      4.715461     23.218553   \n",
              "min    1.910000e+13     29.740000     18.340000      0.100000      0.000000   \n",
              "25%    1.980000e+13     36.190000     26.195000      1.400000      5.000000   \n",
              "50%    2.000000e+13     38.200000     28.350000      2.300000     10.000000   \n",
              "75%    2.010000e+13     39.360000     33.855000      3.600000     22.400000   \n",
              "max    2.020000e+13     46.350000     48.000000     95.400000    225.000000   \n",
              "\n",
              "                 xm            md       richter           mw            ms  \\\n",
              "count  24007.000000  24007.000000  24007.000000  5003.000000  24007.000000   \n",
              "mean       4.056038      1.912346      2.196826     4.478973      0.677677   \n",
              "std        0.574085      2.059780      2.081417     1.048085      1.675708   \n",
              "min        3.500000      0.000000      0.000000     0.000000      0.000000   \n",
              "25%        3.600000      0.000000      0.000000     4.100000      0.000000   \n",
              "50%        3.900000      0.000000      3.500000     4.700000      0.000000   \n",
              "75%        4.400000      3.800000      4.000000     5.000000      0.000000   \n",
              "max        7.900000      7.400000      7.200000     7.700000      7.900000   \n",
              "\n",
              "                 mb  \n",
              "count  24007.000000  \n",
              "mean       1.690561  \n",
              "std        2.146108  \n",
              "min        0.000000  \n",
              "25%        0.000000  \n",
              "50%        0.000000  \n",
              "75%        4.100000  \n",
              "max        7.100000  "
            ],
            "text/html": [
              "\n",
              "  <div id=\"df-4f3d6cee-a85f-453b-8bad-c31a54bdcead\">\n",
              "    <div class=\"colab-df-container\">\n",
              "      <div>\n",
              "<style scoped>\n",
              "    .dataframe tbody tr th:only-of-type {\n",
              "        vertical-align: middle;\n",
              "    }\n",
              "\n",
              "    .dataframe tbody tr th {\n",
              "        vertical-align: top;\n",
              "    }\n",
              "\n",
              "    .dataframe thead th {\n",
              "        text-align: right;\n",
              "    }\n",
              "</style>\n",
              "<table border=\"1\" class=\"dataframe\">\n",
              "  <thead>\n",
              "    <tr style=\"text-align: right;\">\n",
              "      <th></th>\n",
              "      <th>id</th>\n",
              "      <th>lat</th>\n",
              "      <th>long</th>\n",
              "      <th>dist</th>\n",
              "      <th>depth</th>\n",
              "      <th>xm</th>\n",
              "      <th>md</th>\n",
              "      <th>richter</th>\n",
              "      <th>mw</th>\n",
              "      <th>ms</th>\n",
              "      <th>mb</th>\n",
              "    </tr>\n",
              "  </thead>\n",
              "  <tbody>\n",
              "    <tr>\n",
              "      <th>count</th>\n",
              "      <td>2.400700e+04</td>\n",
              "      <td>24007.000000</td>\n",
              "      <td>24007.000000</td>\n",
              "      <td>10062.000000</td>\n",
              "      <td>24007.000000</td>\n",
              "      <td>24007.000000</td>\n",
              "      <td>24007.000000</td>\n",
              "      <td>24007.000000</td>\n",
              "      <td>5003.000000</td>\n",
              "      <td>24007.000000</td>\n",
              "      <td>24007.000000</td>\n",
              "    </tr>\n",
              "    <tr>\n",
              "      <th>mean</th>\n",
              "      <td>1.991982e+13</td>\n",
              "      <td>37.929474</td>\n",
              "      <td>30.773229</td>\n",
              "      <td>3.175015</td>\n",
              "      <td>18.491773</td>\n",
              "      <td>4.056038</td>\n",
              "      <td>1.912346</td>\n",
              "      <td>2.196826</td>\n",
              "      <td>4.478973</td>\n",
              "      <td>0.677677</td>\n",
              "      <td>1.690561</td>\n",
              "    </tr>\n",
              "    <tr>\n",
              "      <th>std</th>\n",
              "      <td>2.060396e+11</td>\n",
              "      <td>2.205605</td>\n",
              "      <td>6.584596</td>\n",
              "      <td>4.715461</td>\n",
              "      <td>23.218553</td>\n",
              "      <td>0.574085</td>\n",
              "      <td>2.059780</td>\n",
              "      <td>2.081417</td>\n",
              "      <td>1.048085</td>\n",
              "      <td>1.675708</td>\n",
              "      <td>2.146108</td>\n",
              "    </tr>\n",
              "    <tr>\n",
              "      <th>min</th>\n",
              "      <td>1.910000e+13</td>\n",
              "      <td>29.740000</td>\n",
              "      <td>18.340000</td>\n",
              "      <td>0.100000</td>\n",
              "      <td>0.000000</td>\n",
              "      <td>3.500000</td>\n",
              "      <td>0.000000</td>\n",
              "      <td>0.000000</td>\n",
              "      <td>0.000000</td>\n",
              "      <td>0.000000</td>\n",
              "      <td>0.000000</td>\n",
              "    </tr>\n",
              "    <tr>\n",
              "      <th>25%</th>\n",
              "      <td>1.980000e+13</td>\n",
              "      <td>36.190000</td>\n",
              "      <td>26.195000</td>\n",
              "      <td>1.400000</td>\n",
              "      <td>5.000000</td>\n",
              "      <td>3.600000</td>\n",
              "      <td>0.000000</td>\n",
              "      <td>0.000000</td>\n",
              "      <td>4.100000</td>\n",
              "      <td>0.000000</td>\n",
              "      <td>0.000000</td>\n",
              "    </tr>\n",
              "    <tr>\n",
              "      <th>50%</th>\n",
              "      <td>2.000000e+13</td>\n",
              "      <td>38.200000</td>\n",
              "      <td>28.350000</td>\n",
              "      <td>2.300000</td>\n",
              "      <td>10.000000</td>\n",
              "      <td>3.900000</td>\n",
              "      <td>0.000000</td>\n",
              "      <td>3.500000</td>\n",
              "      <td>4.700000</td>\n",
              "      <td>0.000000</td>\n",
              "      <td>0.000000</td>\n",
              "    </tr>\n",
              "    <tr>\n",
              "      <th>75%</th>\n",
              "      <td>2.010000e+13</td>\n",
              "      <td>39.360000</td>\n",
              "      <td>33.855000</td>\n",
              "      <td>3.600000</td>\n",
              "      <td>22.400000</td>\n",
              "      <td>4.400000</td>\n",
              "      <td>3.800000</td>\n",
              "      <td>4.000000</td>\n",
              "      <td>5.000000</td>\n",
              "      <td>0.000000</td>\n",
              "      <td>4.100000</td>\n",
              "    </tr>\n",
              "    <tr>\n",
              "      <th>max</th>\n",
              "      <td>2.020000e+13</td>\n",
              "      <td>46.350000</td>\n",
              "      <td>48.000000</td>\n",
              "      <td>95.400000</td>\n",
              "      <td>225.000000</td>\n",
              "      <td>7.900000</td>\n",
              "      <td>7.400000</td>\n",
              "      <td>7.200000</td>\n",
              "      <td>7.700000</td>\n",
              "      <td>7.900000</td>\n",
              "      <td>7.100000</td>\n",
              "    </tr>\n",
              "  </tbody>\n",
              "</table>\n",
              "</div>\n",
              "      <button class=\"colab-df-convert\" onclick=\"convertToInteractive('df-4f3d6cee-a85f-453b-8bad-c31a54bdcead')\"\n",
              "              title=\"Convert this dataframe to an interactive table.\"\n",
              "              style=\"display:none;\">\n",
              "        \n",
              "  <svg xmlns=\"http://www.w3.org/2000/svg\" height=\"24px\"viewBox=\"0 0 24 24\"\n",
              "       width=\"24px\">\n",
              "    <path d=\"M0 0h24v24H0V0z\" fill=\"none\"/>\n",
              "    <path d=\"M18.56 5.44l.94 2.06.94-2.06 2.06-.94-2.06-.94-.94-2.06-.94 2.06-2.06.94zm-11 1L8.5 8.5l.94-2.06 2.06-.94-2.06-.94L8.5 2.5l-.94 2.06-2.06.94zm10 10l.94 2.06.94-2.06 2.06-.94-2.06-.94-.94-2.06-.94 2.06-2.06.94z\"/><path d=\"M17.41 7.96l-1.37-1.37c-.4-.4-.92-.59-1.43-.59-.52 0-1.04.2-1.43.59L10.3 9.45l-7.72 7.72c-.78.78-.78 2.05 0 2.83L4 21.41c.39.39.9.59 1.41.59.51 0 1.02-.2 1.41-.59l7.78-7.78 2.81-2.81c.8-.78.8-2.07 0-2.86zM5.41 20L4 18.59l7.72-7.72 1.47 1.35L5.41 20z\"/>\n",
              "  </svg>\n",
              "      </button>\n",
              "      \n",
              "  <style>\n",
              "    .colab-df-container {\n",
              "      display:flex;\n",
              "      flex-wrap:wrap;\n",
              "      gap: 12px;\n",
              "    }\n",
              "\n",
              "    .colab-df-convert {\n",
              "      background-color: #E8F0FE;\n",
              "      border: none;\n",
              "      border-radius: 50%;\n",
              "      cursor: pointer;\n",
              "      display: none;\n",
              "      fill: #1967D2;\n",
              "      height: 32px;\n",
              "      padding: 0 0 0 0;\n",
              "      width: 32px;\n",
              "    }\n",
              "\n",
              "    .colab-df-convert:hover {\n",
              "      background-color: #E2EBFA;\n",
              "      box-shadow: 0px 1px 2px rgba(60, 64, 67, 0.3), 0px 1px 3px 1px rgba(60, 64, 67, 0.15);\n",
              "      fill: #174EA6;\n",
              "    }\n",
              "\n",
              "    [theme=dark] .colab-df-convert {\n",
              "      background-color: #3B4455;\n",
              "      fill: #D2E3FC;\n",
              "    }\n",
              "\n",
              "    [theme=dark] .colab-df-convert:hover {\n",
              "      background-color: #434B5C;\n",
              "      box-shadow: 0px 1px 3px 1px rgba(0, 0, 0, 0.15);\n",
              "      filter: drop-shadow(0px 1px 2px rgba(0, 0, 0, 0.3));\n",
              "      fill: #FFFFFF;\n",
              "    }\n",
              "  </style>\n",
              "\n",
              "      <script>\n",
              "        const buttonEl =\n",
              "          document.querySelector('#df-4f3d6cee-a85f-453b-8bad-c31a54bdcead button.colab-df-convert');\n",
              "        buttonEl.style.display =\n",
              "          google.colab.kernel.accessAllowed ? 'block' : 'none';\n",
              "\n",
              "        async function convertToInteractive(key) {\n",
              "          const element = document.querySelector('#df-4f3d6cee-a85f-453b-8bad-c31a54bdcead');\n",
              "          const dataTable =\n",
              "            await google.colab.kernel.invokeFunction('convertToInteractive',\n",
              "                                                     [key], {});\n",
              "          if (!dataTable) return;\n",
              "\n",
              "          const docLinkHtml = 'Like what you see? Visit the ' +\n",
              "            '<a target=\"_blank\" href=https://colab.research.google.com/notebooks/data_table.ipynb>data table notebook</a>'\n",
              "            + ' to learn more about interactive tables.';\n",
              "          element.innerHTML = '';\n",
              "          dataTable['output_type'] = 'display_data';\n",
              "          await google.colab.output.renderOutput(dataTable, element);\n",
              "          const docLink = document.createElement('div');\n",
              "          docLink.innerHTML = docLinkHtml;\n",
              "          element.appendChild(docLink);\n",
              "        }\n",
              "      </script>\n",
              "    </div>\n",
              "  </div>\n",
              "  "
            ]
          },
          "metadata": {},
          "execution_count": 13
        }
      ]
    },
    {
      "cell_type": "code",
      "source": [
        "veri.corr()"
      ],
      "metadata": {
        "colab": {
          "base_uri": "https://localhost:8080/",
          "height": 394
        },
        "id": "0rMJn32W7Nma",
        "outputId": "6f10e189-ff6d-4336-e418-c5614c4f7816"
      },
      "execution_count": 14,
      "outputs": [
        {
          "output_type": "execute_result",
          "data": {
            "text/plain": [
              "               id       lat      long      dist     depth        xm        md  \\\n",
              "id       1.000000 -0.071851  0.104695  0.005693 -0.201035 -0.535262 -0.379838   \n",
              "lat     -0.071851  1.000000  0.232346  0.079336 -0.241904 -0.010347  0.051100   \n",
              "long     0.104695  0.232346  1.000000  0.028332 -0.064886  0.071856  0.107302   \n",
              "dist     0.005693  0.079336  0.028332  1.000000  0.028694  0.004511 -0.004314   \n",
              "depth   -0.201035 -0.241904 -0.064886  0.028694  1.000000  0.302926  0.042542   \n",
              "xm      -0.535262 -0.010347  0.071856  0.004511  0.302926  1.000000  0.241432   \n",
              "md      -0.379838  0.051100  0.107302 -0.004314  0.042542  0.241432  1.000000   \n",
              "richter -0.152355 -0.032155 -0.140393  0.006295  0.150559  0.426653 -0.237586   \n",
              "mw      -0.613444  0.040614  0.103712 -0.011798  0.215900  0.781860  0.623224   \n",
              "ms      -0.672286  0.056228  0.043574 -0.009058  0.260246  0.699579  0.461104   \n",
              "mb      -0.611488  0.015019  0.003432 -0.000091  0.313953  0.628382 -0.022863   \n",
              "\n",
              "          richter        mw        ms        mb  \n",
              "id      -0.152355 -0.613444 -0.672286 -0.611488  \n",
              "lat     -0.032155  0.040614  0.056228  0.015019  \n",
              "long    -0.140393  0.103712  0.043574  0.003432  \n",
              "dist     0.006295 -0.011798 -0.009058 -0.000091  \n",
              "depth    0.150559  0.215900  0.260246  0.313953  \n",
              "xm       0.426653  0.781860  0.699579  0.628382  \n",
              "md      -0.237586  0.623224  0.461104 -0.022863  \n",
              "richter  1.000000  0.447001  0.419664  0.240694  \n",
              "mw       0.447001  1.000000  0.640529  0.628503  \n",
              "ms       0.419664  0.640529  1.000000  0.588919  \n",
              "mb       0.240694  0.628503  0.588919  1.000000  "
            ],
            "text/html": [
              "\n",
              "  <div id=\"df-75e19b38-2fe4-4116-a234-ae19f54906a4\">\n",
              "    <div class=\"colab-df-container\">\n",
              "      <div>\n",
              "<style scoped>\n",
              "    .dataframe tbody tr th:only-of-type {\n",
              "        vertical-align: middle;\n",
              "    }\n",
              "\n",
              "    .dataframe tbody tr th {\n",
              "        vertical-align: top;\n",
              "    }\n",
              "\n",
              "    .dataframe thead th {\n",
              "        text-align: right;\n",
              "    }\n",
              "</style>\n",
              "<table border=\"1\" class=\"dataframe\">\n",
              "  <thead>\n",
              "    <tr style=\"text-align: right;\">\n",
              "      <th></th>\n",
              "      <th>id</th>\n",
              "      <th>lat</th>\n",
              "      <th>long</th>\n",
              "      <th>dist</th>\n",
              "      <th>depth</th>\n",
              "      <th>xm</th>\n",
              "      <th>md</th>\n",
              "      <th>richter</th>\n",
              "      <th>mw</th>\n",
              "      <th>ms</th>\n",
              "      <th>mb</th>\n",
              "    </tr>\n",
              "  </thead>\n",
              "  <tbody>\n",
              "    <tr>\n",
              "      <th>id</th>\n",
              "      <td>1.000000</td>\n",
              "      <td>-0.071851</td>\n",
              "      <td>0.104695</td>\n",
              "      <td>0.005693</td>\n",
              "      <td>-0.201035</td>\n",
              "      <td>-0.535262</td>\n",
              "      <td>-0.379838</td>\n",
              "      <td>-0.152355</td>\n",
              "      <td>-0.613444</td>\n",
              "      <td>-0.672286</td>\n",
              "      <td>-0.611488</td>\n",
              "    </tr>\n",
              "    <tr>\n",
              "      <th>lat</th>\n",
              "      <td>-0.071851</td>\n",
              "      <td>1.000000</td>\n",
              "      <td>0.232346</td>\n",
              "      <td>0.079336</td>\n",
              "      <td>-0.241904</td>\n",
              "      <td>-0.010347</td>\n",
              "      <td>0.051100</td>\n",
              "      <td>-0.032155</td>\n",
              "      <td>0.040614</td>\n",
              "      <td>0.056228</td>\n",
              "      <td>0.015019</td>\n",
              "    </tr>\n",
              "    <tr>\n",
              "      <th>long</th>\n",
              "      <td>0.104695</td>\n",
              "      <td>0.232346</td>\n",
              "      <td>1.000000</td>\n",
              "      <td>0.028332</td>\n",
              "      <td>-0.064886</td>\n",
              "      <td>0.071856</td>\n",
              "      <td>0.107302</td>\n",
              "      <td>-0.140393</td>\n",
              "      <td>0.103712</td>\n",
              "      <td>0.043574</td>\n",
              "      <td>0.003432</td>\n",
              "    </tr>\n",
              "    <tr>\n",
              "      <th>dist</th>\n",
              "      <td>0.005693</td>\n",
              "      <td>0.079336</td>\n",
              "      <td>0.028332</td>\n",
              "      <td>1.000000</td>\n",
              "      <td>0.028694</td>\n",
              "      <td>0.004511</td>\n",
              "      <td>-0.004314</td>\n",
              "      <td>0.006295</td>\n",
              "      <td>-0.011798</td>\n",
              "      <td>-0.009058</td>\n",
              "      <td>-0.000091</td>\n",
              "    </tr>\n",
              "    <tr>\n",
              "      <th>depth</th>\n",
              "      <td>-0.201035</td>\n",
              "      <td>-0.241904</td>\n",
              "      <td>-0.064886</td>\n",
              "      <td>0.028694</td>\n",
              "      <td>1.000000</td>\n",
              "      <td>0.302926</td>\n",
              "      <td>0.042542</td>\n",
              "      <td>0.150559</td>\n",
              "      <td>0.215900</td>\n",
              "      <td>0.260246</td>\n",
              "      <td>0.313953</td>\n",
              "    </tr>\n",
              "    <tr>\n",
              "      <th>xm</th>\n",
              "      <td>-0.535262</td>\n",
              "      <td>-0.010347</td>\n",
              "      <td>0.071856</td>\n",
              "      <td>0.004511</td>\n",
              "      <td>0.302926</td>\n",
              "      <td>1.000000</td>\n",
              "      <td>0.241432</td>\n",
              "      <td>0.426653</td>\n",
              "      <td>0.781860</td>\n",
              "      <td>0.699579</td>\n",
              "      <td>0.628382</td>\n",
              "    </tr>\n",
              "    <tr>\n",
              "      <th>md</th>\n",
              "      <td>-0.379838</td>\n",
              "      <td>0.051100</td>\n",
              "      <td>0.107302</td>\n",
              "      <td>-0.004314</td>\n",
              "      <td>0.042542</td>\n",
              "      <td>0.241432</td>\n",
              "      <td>1.000000</td>\n",
              "      <td>-0.237586</td>\n",
              "      <td>0.623224</td>\n",
              "      <td>0.461104</td>\n",
              "      <td>-0.022863</td>\n",
              "    </tr>\n",
              "    <tr>\n",
              "      <th>richter</th>\n",
              "      <td>-0.152355</td>\n",
              "      <td>-0.032155</td>\n",
              "      <td>-0.140393</td>\n",
              "      <td>0.006295</td>\n",
              "      <td>0.150559</td>\n",
              "      <td>0.426653</td>\n",
              "      <td>-0.237586</td>\n",
              "      <td>1.000000</td>\n",
              "      <td>0.447001</td>\n",
              "      <td>0.419664</td>\n",
              "      <td>0.240694</td>\n",
              "    </tr>\n",
              "    <tr>\n",
              "      <th>mw</th>\n",
              "      <td>-0.613444</td>\n",
              "      <td>0.040614</td>\n",
              "      <td>0.103712</td>\n",
              "      <td>-0.011798</td>\n",
              "      <td>0.215900</td>\n",
              "      <td>0.781860</td>\n",
              "      <td>0.623224</td>\n",
              "      <td>0.447001</td>\n",
              "      <td>1.000000</td>\n",
              "      <td>0.640529</td>\n",
              "      <td>0.628503</td>\n",
              "    </tr>\n",
              "    <tr>\n",
              "      <th>ms</th>\n",
              "      <td>-0.672286</td>\n",
              "      <td>0.056228</td>\n",
              "      <td>0.043574</td>\n",
              "      <td>-0.009058</td>\n",
              "      <td>0.260246</td>\n",
              "      <td>0.699579</td>\n",
              "      <td>0.461104</td>\n",
              "      <td>0.419664</td>\n",
              "      <td>0.640529</td>\n",
              "      <td>1.000000</td>\n",
              "      <td>0.588919</td>\n",
              "    </tr>\n",
              "    <tr>\n",
              "      <th>mb</th>\n",
              "      <td>-0.611488</td>\n",
              "      <td>0.015019</td>\n",
              "      <td>0.003432</td>\n",
              "      <td>-0.000091</td>\n",
              "      <td>0.313953</td>\n",
              "      <td>0.628382</td>\n",
              "      <td>-0.022863</td>\n",
              "      <td>0.240694</td>\n",
              "      <td>0.628503</td>\n",
              "      <td>0.588919</td>\n",
              "      <td>1.000000</td>\n",
              "    </tr>\n",
              "  </tbody>\n",
              "</table>\n",
              "</div>\n",
              "      <button class=\"colab-df-convert\" onclick=\"convertToInteractive('df-75e19b38-2fe4-4116-a234-ae19f54906a4')\"\n",
              "              title=\"Convert this dataframe to an interactive table.\"\n",
              "              style=\"display:none;\">\n",
              "        \n",
              "  <svg xmlns=\"http://www.w3.org/2000/svg\" height=\"24px\"viewBox=\"0 0 24 24\"\n",
              "       width=\"24px\">\n",
              "    <path d=\"M0 0h24v24H0V0z\" fill=\"none\"/>\n",
              "    <path d=\"M18.56 5.44l.94 2.06.94-2.06 2.06-.94-2.06-.94-.94-2.06-.94 2.06-2.06.94zm-11 1L8.5 8.5l.94-2.06 2.06-.94-2.06-.94L8.5 2.5l-.94 2.06-2.06.94zm10 10l.94 2.06.94-2.06 2.06-.94-2.06-.94-.94-2.06-.94 2.06-2.06.94z\"/><path d=\"M17.41 7.96l-1.37-1.37c-.4-.4-.92-.59-1.43-.59-.52 0-1.04.2-1.43.59L10.3 9.45l-7.72 7.72c-.78.78-.78 2.05 0 2.83L4 21.41c.39.39.9.59 1.41.59.51 0 1.02-.2 1.41-.59l7.78-7.78 2.81-2.81c.8-.78.8-2.07 0-2.86zM5.41 20L4 18.59l7.72-7.72 1.47 1.35L5.41 20z\"/>\n",
              "  </svg>\n",
              "      </button>\n",
              "      \n",
              "  <style>\n",
              "    .colab-df-container {\n",
              "      display:flex;\n",
              "      flex-wrap:wrap;\n",
              "      gap: 12px;\n",
              "    }\n",
              "\n",
              "    .colab-df-convert {\n",
              "      background-color: #E8F0FE;\n",
              "      border: none;\n",
              "      border-radius: 50%;\n",
              "      cursor: pointer;\n",
              "      display: none;\n",
              "      fill: #1967D2;\n",
              "      height: 32px;\n",
              "      padding: 0 0 0 0;\n",
              "      width: 32px;\n",
              "    }\n",
              "\n",
              "    .colab-df-convert:hover {\n",
              "      background-color: #E2EBFA;\n",
              "      box-shadow: 0px 1px 2px rgba(60, 64, 67, 0.3), 0px 1px 3px 1px rgba(60, 64, 67, 0.15);\n",
              "      fill: #174EA6;\n",
              "    }\n",
              "\n",
              "    [theme=dark] .colab-df-convert {\n",
              "      background-color: #3B4455;\n",
              "      fill: #D2E3FC;\n",
              "    }\n",
              "\n",
              "    [theme=dark] .colab-df-convert:hover {\n",
              "      background-color: #434B5C;\n",
              "      box-shadow: 0px 1px 3px 1px rgba(0, 0, 0, 0.15);\n",
              "      filter: drop-shadow(0px 1px 2px rgba(0, 0, 0, 0.3));\n",
              "      fill: #FFFFFF;\n",
              "    }\n",
              "  </style>\n",
              "\n",
              "      <script>\n",
              "        const buttonEl =\n",
              "          document.querySelector('#df-75e19b38-2fe4-4116-a234-ae19f54906a4 button.colab-df-convert');\n",
              "        buttonEl.style.display =\n",
              "          google.colab.kernel.accessAllowed ? 'block' : 'none';\n",
              "\n",
              "        async function convertToInteractive(key) {\n",
              "          const element = document.querySelector('#df-75e19b38-2fe4-4116-a234-ae19f54906a4');\n",
              "          const dataTable =\n",
              "            await google.colab.kernel.invokeFunction('convertToInteractive',\n",
              "                                                     [key], {});\n",
              "          if (!dataTable) return;\n",
              "\n",
              "          const docLinkHtml = 'Like what you see? Visit the ' +\n",
              "            '<a target=\"_blank\" href=https://colab.research.google.com/notebooks/data_table.ipynb>data table notebook</a>'\n",
              "            + ' to learn more about interactive tables.';\n",
              "          element.innerHTML = '';\n",
              "          dataTable['output_type'] = 'display_data';\n",
              "          await google.colab.output.renderOutput(dataTable, element);\n",
              "          const docLink = document.createElement('div');\n",
              "          docLink.innerHTML = docLinkHtml;\n",
              "          element.appendChild(docLink);\n",
              "        }\n",
              "      </script>\n",
              "    </div>\n",
              "  </div>\n",
              "  "
            ]
          },
          "metadata": {},
          "execution_count": 14
        }
      ]
    },
    {
      "cell_type": "code",
      "source": [
        "veri=veri[['date','time','lat','city','long','depth','xm']]    #index 1: Kocaeli earthquake is our prediction \n",
        "data=veri.head(10)  \n",
        "print(data)"
      ],
      "metadata": {
        "colab": {
          "base_uri": "https://localhost:8080/"
        },
        "id": "z5lSR7SH7RWT",
        "outputId": "d19e1529-1cef-4db7-c193-70bb382f460c"
      },
      "execution_count": 15,
      "outputs": [
        {
          "output_type": "stream",
          "name": "stdout",
          "text": [
            "         date         time    lat       city   long  depth   xm\n",
            "0  2003.05.20  12:17:44 AM  39.04     bingol  40.38   10.0  4.1\n",
            "1  2007.08.01  12:03:08 AM  40.79    kocaeli  30.09    5.2  4.0\n",
            "2  1978.05.07  12:41:37 AM  38.58     manisa  27.61    0.0  3.7\n",
            "3  1997.03.22  12:31:45 AM  39.47      sivas  36.44   10.0  3.5\n",
            "4  2000.04.02  12:57:38 AM  40.80    sakarya  30.24    7.0  4.3\n",
            "5  2005.01.21  12:04:03 AM  37.11      mugla  27.75   32.8  3.5\n",
            "6  2012.06.24  12:07:22 AM  38.75        van  43.61    9.4  4.5\n",
            "7  1987.12.31  12:49:54 AM  39.43  balikesir  27.98   26.0  3.8\n",
            "8  2000.02.07  12:11:45 AM  40.05  kirikkale  34.07    1.0  3.8\n",
            "9  2011.10.28  12:47:56 AM  38.76        van  43.54    3.1  4.3\n"
          ]
        }
      ]
    },
    {
      "cell_type": "code",
      "source": [
        "veri=veri[['lat','long','depth','xm']]    #index 1 is our prediction earthquake\n",
        "data=veri.head(10)  \n",
        "print(data)"
      ],
      "metadata": {
        "colab": {
          "base_uri": "https://localhost:8080/"
        },
        "id": "L6jOzA6H7U6I",
        "outputId": "7a77c029-ebe6-485c-d95d-1ce59b7be0a1"
      },
      "execution_count": 16,
      "outputs": [
        {
          "output_type": "stream",
          "name": "stdout",
          "text": [
            "     lat   long  depth   xm\n",
            "0  39.04  40.38   10.0  4.1\n",
            "1  40.79  30.09    5.2  4.0\n",
            "2  38.58  27.61    0.0  3.7\n",
            "3  39.47  36.44   10.0  3.5\n",
            "4  40.80  30.24    7.0  4.3\n",
            "5  37.11  27.75   32.8  3.5\n",
            "6  38.75  43.61    9.4  4.5\n",
            "7  39.43  27.98   26.0  3.8\n",
            "8  40.05  34.07    1.0  3.8\n",
            "9  38.76  43.54    3.1  4.3\n"
          ]
        }
      ]
    },
    {
      "cell_type": "code",
      "source": [
        "import numpy as np #use numpy for y variable for Linear Regression\n",
        "y=np.array(veri['xm'])"
      ],
      "metadata": {
        "id": "FLf6BX_y7aMP"
      },
      "execution_count": 17,
      "outputs": []
    },
    {
      "cell_type": "code",
      "source": [
        "X=np.array(veri.drop('xm',axis=1)) #prepare attribute (X variable) and drop the predicted value"
      ],
      "metadata": {
        "id": "LDW3EtZL7j0L"
      },
      "execution_count": 18,
      "outputs": []
    },
    {
      "cell_type": "code",
      "source": [
        "from sklearn.model_selection import train_test_split  #lets split data set\n",
        "X_train,X_test,y_train,y_test=train_test_split(X,y,test_size=0.2,random_state=2)"
      ],
      "metadata": {
        "id": "WeaRGj2t7nRb"
      },
      "execution_count": 19,
      "outputs": []
    },
    {
      "cell_type": "code",
      "source": [
        "from sklearn.linear_model import LinearRegression  #lets set LR model"
      ],
      "metadata": {
        "id": "_2QhAWTS7qjW"
      },
      "execution_count": 20,
      "outputs": []
    },
    {
      "cell_type": "code",
      "source": [
        "linear=LinearRegression() #taking an example"
      ],
      "metadata": {
        "id": "GqCJ8XE87t0h"
      },
      "execution_count": 21,
      "outputs": []
    },
    {
      "cell_type": "code",
      "source": [
        "linear.fit(X_train,y_train) #training data"
      ],
      "metadata": {
        "colab": {
          "base_uri": "https://localhost:8080/"
        },
        "id": "kJAh9B4z7wzN",
        "outputId": "8d6b01bc-7253-4782-e281-0a88eb704641"
      },
      "execution_count": 22,
      "outputs": [
        {
          "output_type": "execute_result",
          "data": {
            "text/plain": [
              "LinearRegression()"
            ]
          },
          "metadata": {},
          "execution_count": 22
        }
      ]
    },
    {
      "cell_type": "code",
      "source": [
        "data=linear.score(X_test,y_test)  # score of test datas\n",
        "print(data)"
      ],
      "metadata": {
        "colab": {
          "base_uri": "https://localhost:8080/"
        },
        "id": "3mtwlaDq7zal",
        "outputId": "6291e403-44eb-4a28-ed71-6e4d60fd245a"
      },
      "execution_count": 23,
      "outputs": [
        {
          "output_type": "stream",
          "name": "stdout",
          "text": [
            "0.09562603089277644\n"
          ]
        }
      ]
    },
    {
      "cell_type": "code",
      "source": [
        "data=linear.score(X_train,y_train) #score of training datas\n",
        "print(data)"
      ],
      "metadata": {
        "colab": {
          "base_uri": "https://localhost:8080/"
        },
        "id": "pD0sWcbI721X",
        "outputId": "23a29a3a-1599-4fe6-f2d8-b2cd10b9040e"
      },
      "execution_count": 24,
      "outputs": [
        {
          "output_type": "stream",
          "name": "stdout",
          "text": [
            "0.10377022877473485\n"
          ]
        }
      ]
    },
    {
      "cell_type": "code",
      "source": [
        "print('coefficients: \\n',linear.coef_) \n",
        "print('intercepts: \\n',linear.intercept_)"
      ],
      "metadata": {
        "colab": {
          "base_uri": "https://localhost:8080/"
        },
        "id": "5DWjKyNr76JE",
        "outputId": "7cf6428e-e882-493c-e2a6-1f4414a223c8"
      },
      "execution_count": 25,
      "outputs": [
        {
          "output_type": "stream",
          "name": "stdout",
          "text": [
            "coefficients: \n",
            " [0.01261989 0.0073032  0.0080358 ]\n",
            "intercepts: \n",
            " 3.2067500382814664\n"
          ]
        }
      ]
    },
    {
      "cell_type": "code",
      "source": [
        "predict_data=np.array([[40.05,35.80,10.0]])   #kocaeli earthquake prediction is 4.05, quiet close to the real value\n",
        "data2=linear.predict(predict_data)\n",
        "print(data2)  "
      ],
      "metadata": {
        "colab": {
          "base_uri": "https://localhost:8080/"
        },
        "id": "6CftAPkR79fb",
        "outputId": "85b6201f-82d6-480f-8031-fef2b762281e"
      },
      "execution_count": 26,
      "outputs": [
        {
          "output_type": "stream",
          "name": "stdout",
          "text": [
            "[4.05398897]\n"
          ]
        }
      ]
    },
    {
      "cell_type": "code",
      "source": [
        "import matplotlib.pyplot as plt\n",
        "import seaborn as sn\n",
        "f,ax = plt.subplots(figsize=(10, 10))\n",
        "sn.heatmap(veri.corr(), annot=True, linewidths=.9, fmt= '.2f',ax=ax)\n",
        "plt.show()"
      ],
      "metadata": {
        "colab": {
          "base_uri": "https://localhost:8080/",
          "height": 595
        },
        "id": "k6w4-CSm8BBM",
        "outputId": "c65a0dcf-2d41-4fdd-dd87-98ad96f49ce2"
      },
      "execution_count": 27,
      "outputs": [
        {
          "output_type": "display_data",
          "data": {
            "text/plain": [
              "<Figure size 720x720 with 2 Axes>"
            ],
            "image/png": "[encoded data removed]"
          },
          "metadata": {
            "needs_background": "light"
          }
        }
      ]
    },
    {
      "cell_type": "code",
      "source": [
        "veri.depth.plot(kind=\"line\",grid=True,label=\"depth\",linestyle=\":\",color=\"r\")\n",
        "veri.lat.plot(kind=\"line\",grid=True,label=\"latitude\",linestyle=\"-\",color=\"g\")\n",
        "veri.xm.plot(kind=\"line\",grid=True,label=\"magnitude\",linestyle=\"--\",color=\"b\")\n",
        "plt.legend(loc=\"best\")  \n",
        "plt.title(\"depth-lat-mag\")\n",
        "plt.show()"
      ],
      "metadata": {
        "colab": {
          "base_uri": "https://localhost:8080/",
          "height": 281
        },
        "id": "77tH88cU8EeQ",
        "outputId": "937c0db0-9d53-4ad7-edb9-55e3bc32e552"
      },
      "execution_count": 28,
      "outputs": [
        {
          "output_type": "display_data",
          "data": {
            "text/plain": [
              "<Figure size 432x288 with 1 Axes>"
            ],
            "image/png": "[encoded data removed]"
          },
          "metadata": {
            "needs_background": "light"
          }
        }
      ]
    }
  ]
}